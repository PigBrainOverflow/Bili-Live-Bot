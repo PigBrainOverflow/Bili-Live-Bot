{
 "cells": [
  {
   "cell_type": "markdown",
   "metadata": {},
   "source": [
    "# Bili Live Bot\n",
    "provides\n",
    "1. A simple way to monitor real-time danmakus of any Bilibili live room (no need for authorization).\n",
    "2. A simple way to send danmakus in any Bilibili live room (authorization required).\n",
    "3. A simple access to OpenAI (either with or without an openai api key).\n",
    "\n",
    "For ChatGPT connection, you can either use the `OpenAIConnector` with an API key, or the `ChatGPTDriver`. The latter will use the session cookies provided by the user.\n",
    "\n",
    "All spiders are implemented as `Observer` design pattern, so you can easily add your own spiders to monitor other events and register callbacks. Surprisingly, with our spiders, you can send danmakus with no limit (no maximum danmaku rate and words)!\n",
    "\n",
    "NOTE: This bot is based on spiders, not the official Bilibili API (which requires developer authorization), so it may not be as stable as the official API. Overuse of it may lead to Bilbili's anti-spider mechanism, so use it with caution.\n",
    "\n",
    "NOTE: This bot is for educational purposes only. Please respect the rules of the Bilibili platform and do not use it for malicious purposes.\n",
    "\n",
    "To use this bot, you need to install the following packages:"
   ]
  },
  {
   "cell_type": "code",
   "execution_count": 1,
   "metadata": {},
   "outputs": [
    {
     "name": "stdout",
     "output_type": "stream",
     "text": [
      "Requirement already satisfied: selenium in d:\\anaconda3\\envs\\web\\lib\\site-packages (4.18.1)\n",
      "Requirement already satisfied: urllib3<3,>=1.26 in d:\\anaconda3\\envs\\web\\lib\\site-packages (from urllib3[socks]<3,>=1.26->selenium) (2.2.1)\n",
      "Requirement already satisfied: trio~=0.17 in d:\\anaconda3\\envs\\web\\lib\\site-packages (from selenium) (0.25.0)\n",
      "Requirement already satisfied: trio-websocket~=0.9 in d:\\anaconda3\\envs\\web\\lib\\site-packages (from selenium) (0.11.1)\n",
      "Requirement already satisfied: certifi>=2021.10.8 in d:\\anaconda3\\envs\\web\\lib\\site-packages (from selenium) (2024.2.2)\n",
      "Requirement already satisfied: typing_extensions>=4.9.0 in d:\\anaconda3\\envs\\web\\lib\\site-packages (from selenium) (4.10.0)\n",
      "Requirement already satisfied: attrs>=23.2.0 in d:\\anaconda3\\envs\\web\\lib\\site-packages (from trio~=0.17->selenium) (23.2.0)\n",
      "Requirement already satisfied: sortedcontainers in d:\\anaconda3\\envs\\web\\lib\\site-packages (from trio~=0.17->selenium) (2.4.0)\n",
      "Requirement already satisfied: idna in d:\\anaconda3\\envs\\web\\lib\\site-packages (from trio~=0.17->selenium) (3.6)\n",
      "Requirement already satisfied: outcome in d:\\anaconda3\\envs\\web\\lib\\site-packages (from trio~=0.17->selenium) (1.3.0.post0)\n",
      "Requirement already satisfied: sniffio>=1.3.0 in d:\\anaconda3\\envs\\web\\lib\\site-packages (from trio~=0.17->selenium) (1.3.1)\n",
      "Requirement already satisfied: cffi>=1.14 in d:\\anaconda3\\envs\\web\\lib\\site-packages (from trio~=0.17->selenium) (1.16.0)\n",
      "Requirement already satisfied: wsproto>=0.14 in d:\\anaconda3\\envs\\web\\lib\\site-packages (from trio-websocket~=0.9->selenium) (1.2.0)\n",
      "Requirement already satisfied: pysocks!=1.5.7,<2.0,>=1.5.6 in d:\\anaconda3\\envs\\web\\lib\\site-packages (from urllib3[socks]<3,>=1.26->selenium) (1.7.1)\n",
      "Requirement already satisfied: pycparser in d:\\anaconda3\\envs\\web\\lib\\site-packages (from cffi>=1.14->trio~=0.17->selenium) (2.21)\n",
      "Requirement already satisfied: h11<1,>=0.9.0 in d:\\anaconda3\\envs\\web\\lib\\site-packages (from wsproto>=0.14->trio-websocket~=0.9->selenium) (0.14.0)\n",
      "Note: you may need to restart the kernel to use updated packages.\n",
      "Requirement already satisfied: selenium_stealth in d:\\anaconda3\\envs\\web\\lib\\site-packages (1.0.6)\n",
      "Requirement already satisfied: selenium in d:\\anaconda3\\envs\\web\\lib\\site-packages (from selenium_stealth) (4.18.1)\n",
      "Requirement already satisfied: urllib3<3,>=1.26 in d:\\anaconda3\\envs\\web\\lib\\site-packages (from urllib3[socks]<3,>=1.26->selenium->selenium_stealth) (2.2.1)\n",
      "Requirement already satisfied: trio~=0.17 in d:\\anaconda3\\envs\\web\\lib\\site-packages (from selenium->selenium_stealth) (0.25.0)\n",
      "Requirement already satisfied: trio-websocket~=0.9 in d:\\anaconda3\\envs\\web\\lib\\site-packages (from selenium->selenium_stealth) (0.11.1)\n",
      "Requirement already satisfied: certifi>=2021.10.8 in d:\\anaconda3\\envs\\web\\lib\\site-packages (from selenium->selenium_stealth) (2024.2.2)\n",
      "Requirement already satisfied: typing_extensions>=4.9.0 in d:\\anaconda3\\envs\\web\\lib\\site-packages (from selenium->selenium_stealth) (4.10.0)\n",
      "Requirement already satisfied: attrs>=23.2.0 in d:\\anaconda3\\envs\\web\\lib\\site-packages (from trio~=0.17->selenium->selenium_stealth) (23.2.0)\n",
      "Requirement already satisfied: sortedcontainers in d:\\anaconda3\\envs\\web\\lib\\site-packages (from trio~=0.17->selenium->selenium_stealth) (2.4.0)\n",
      "Requirement already satisfied: idna in d:\\anaconda3\\envs\\web\\lib\\site-packages (from trio~=0.17->selenium->selenium_stealth) (3.6)\n",
      "Requirement already satisfied: outcome in d:\\anaconda3\\envs\\web\\lib\\site-packages (from trio~=0.17->selenium->selenium_stealth) (1.3.0.post0)\n",
      "Requirement already satisfied: sniffio>=1.3.0 in d:\\anaconda3\\envs\\web\\lib\\site-packages (from trio~=0.17->selenium->selenium_stealth) (1.3.1)\n",
      "Requirement already satisfied: cffi>=1.14 in d:\\anaconda3\\envs\\web\\lib\\site-packages (from trio~=0.17->selenium->selenium_stealth) (1.16.0)\n",
      "Requirement already satisfied: wsproto>=0.14 in d:\\anaconda3\\envs\\web\\lib\\site-packages (from trio-websocket~=0.9->selenium->selenium_stealth) (1.2.0)\n",
      "Requirement already satisfied: pysocks!=1.5.7,<2.0,>=1.5.6 in d:\\anaconda3\\envs\\web\\lib\\site-packages (from urllib3[socks]<3,>=1.26->selenium->selenium_stealth) (1.7.1)\n",
      "Requirement already satisfied: pycparser in d:\\anaconda3\\envs\\web\\lib\\site-packages (from cffi>=1.14->trio~=0.17->selenium->selenium_stealth) (2.21)\n",
      "Requirement already satisfied: h11<1,>=0.9.0 in d:\\anaconda3\\envs\\web\\lib\\site-packages (from wsproto>=0.14->trio-websocket~=0.9->selenium->selenium_stealth) (0.14.0)\n",
      "Note: you may need to restart the kernel to use updated packages.\n",
      "Requirement already satisfied: bs4 in d:\\anaconda3\\envs\\web\\lib\\site-packages (0.0.2)\n",
      "Requirement already satisfied: beautifulsoup4 in d:\\anaconda3\\envs\\web\\lib\\site-packages (from bs4) (4.12.3)\n",
      "Requirement already satisfied: soupsieve>1.2 in d:\\anaconda3\\envs\\web\\lib\\site-packages (from beautifulsoup4->bs4) (2.5)\n",
      "Note: you may need to restart the kernel to use updated packages.\n",
      "Requirement already satisfied: openai in d:\\anaconda3\\envs\\web\\lib\\site-packages (1.14.1)\n",
      "Requirement already satisfied: anyio<5,>=3.5.0 in d:\\anaconda3\\envs\\web\\lib\\site-packages (from openai) (4.3.0)\n",
      "Requirement already satisfied: distro<2,>=1.7.0 in d:\\anaconda3\\envs\\web\\lib\\site-packages (from openai) (1.9.0)\n",
      "Requirement already satisfied: httpx<1,>=0.23.0 in d:\\anaconda3\\envs\\web\\lib\\site-packages (from openai) (0.27.0)\n",
      "Requirement already satisfied: pydantic<3,>=1.9.0 in d:\\anaconda3\\envs\\web\\lib\\site-packages (from openai) (2.6.4)\n",
      "Requirement already satisfied: sniffio in d:\\anaconda3\\envs\\web\\lib\\site-packages (from openai) (1.3.1)\n",
      "Requirement already satisfied: tqdm>4 in d:\\anaconda3\\envs\\web\\lib\\site-packages (from openai) (4.66.2)\n",
      "Requirement already satisfied: typing-extensions<5,>=4.7 in d:\\anaconda3\\envs\\web\\lib\\site-packages (from openai) (4.10.0)\n",
      "Requirement already satisfied: idna>=2.8 in d:\\anaconda3\\envs\\web\\lib\\site-packages (from anyio<5,>=3.5.0->openai) (3.6)\n",
      "Requirement already satisfied: certifi in d:\\anaconda3\\envs\\web\\lib\\site-packages (from httpx<1,>=0.23.0->openai) (2024.2.2)\n",
      "Requirement already satisfied: httpcore==1.* in d:\\anaconda3\\envs\\web\\lib\\site-packages (from httpx<1,>=0.23.0->openai) (1.0.4)\n",
      "Requirement already satisfied: h11<0.15,>=0.13 in d:\\anaconda3\\envs\\web\\lib\\site-packages (from httpcore==1.*->httpx<1,>=0.23.0->openai) (0.14.0)\n",
      "Requirement already satisfied: annotated-types>=0.4.0 in d:\\anaconda3\\envs\\web\\lib\\site-packages (from pydantic<3,>=1.9.0->openai) (0.6.0)\n",
      "Requirement already satisfied: pydantic-core==2.16.3 in d:\\anaconda3\\envs\\web\\lib\\site-packages (from pydantic<3,>=1.9.0->openai) (2.16.3)\n",
      "Requirement already satisfied: colorama in d:\\anaconda3\\envs\\web\\lib\\site-packages (from tqdm>4->openai) (0.4.6)\n",
      "Note: you may need to restart the kernel to use updated packages.\n",
      "Requirement already satisfied: openai_async in d:\\anaconda3\\envs\\web\\lib\\site-packages (0.0.3)\n",
      "Requirement already satisfied: httpx in d:\\anaconda3\\envs\\web\\lib\\site-packages (from openai_async) (0.27.0)\n",
      "Requirement already satisfied: pytest in d:\\anaconda3\\envs\\web\\lib\\site-packages (from openai_async) (8.1.1)\n",
      "Requirement already satisfied: anyio in d:\\anaconda3\\envs\\web\\lib\\site-packages (from httpx->openai_async) (4.3.0)\n",
      "Requirement already satisfied: certifi in d:\\anaconda3\\envs\\web\\lib\\site-packages (from httpx->openai_async) (2024.2.2)\n",
      "Requirement already satisfied: httpcore==1.* in d:\\anaconda3\\envs\\web\\lib\\site-packages (from httpx->openai_async) (1.0.4)\n",
      "Requirement already satisfied: idna in d:\\anaconda3\\envs\\web\\lib\\site-packages (from httpx->openai_async) (3.6)\n",
      "Requirement already satisfied: sniffio in d:\\anaconda3\\envs\\web\\lib\\site-packages (from httpx->openai_async) (1.3.1)\n",
      "Requirement already satisfied: h11<0.15,>=0.13 in d:\\anaconda3\\envs\\web\\lib\\site-packages (from httpcore==1.*->httpx->openai_async) (0.14.0)\n",
      "Requirement already satisfied: iniconfig in d:\\anaconda3\\envs\\web\\lib\\site-packages (from pytest->openai_async) (2.0.0)\n",
      "Requirement already satisfied: packaging in d:\\anaconda3\\envs\\web\\lib\\site-packages (from pytest->openai_async) (24.0)\n",
      "Requirement already satisfied: pluggy<2.0,>=1.4 in d:\\anaconda3\\envs\\web\\lib\\site-packages (from pytest->openai_async) (1.4.0)\n",
      "Requirement already satisfied: colorama in d:\\anaconda3\\envs\\web\\lib\\site-packages (from pytest->openai_async) (0.4.6)\n",
      "Note: you may need to restart the kernel to use updated packages.\n"
     ]
    }
   ],
   "source": [
    "%pip install selenium\n",
    "%pip install selenium_stealth\n",
    "%pip install bs4\n",
    "%pip install openai\n",
    "%pip install openai_async"
   ]
  }
 ],
 "metadata": {
  "kernelspec": {
   "display_name": "web",
   "language": "python",
   "name": "python3"
  },
  "language_info": {
   "codemirror_mode": {
    "name": "ipython",
    "version": 3
   },
   "file_extension": ".py",
   "mimetype": "text/x-python",
   "name": "python",
   "nbconvert_exporter": "python",
   "pygments_lexer": "ipython3",
   "version": "3.11.8"
  }
 },
 "nbformat": 4,
 "nbformat_minor": 2
}
